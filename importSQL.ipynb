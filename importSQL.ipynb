{
 "cells": [
  {
   "cell_type": "code",
   "execution_count": 2,
   "metadata": {},
   "outputs": [
    {
     "name": "stdout",
     "output_type": "stream",
     "text": [
      "total 400\n",
      "drwxr-xr-x   20 jlee  staff     640 Apr  8 19:54 \u001b[34m.\u001b[m\u001b[m\n",
      "drwxr-xr-x    7 jlee  staff     224 Apr  6 19:39 \u001b[34m..\u001b[m\u001b[m\n",
      "-rw-r--r--@   1 jlee  staff   10244 Apr  7 19:33 .DS_Store\n",
      "drwxr-xr-x   12 jlee  staff     384 Apr  7 22:57 \u001b[34m.git\u001b[m\u001b[m\n",
      "-rw-r--r--@   1 jlee  staff     356 Mar 25 20:16 .gitignore\n",
      "drwxr-xr-x@   3 jlee  staff      96 Apr  6 19:59 \u001b[34m.wrangler\u001b[m\u001b[m\n",
      "-rw-r--r--@   1 jlee  staff     514 Apr  6 19:03 README.md\n",
      "-rw-r--r--@   1 jlee  staff     419 Apr  6 20:21 example.js\n",
      "-rw-r--r--@   1 jlee  staff       0 Apr  8 19:57 import.sql\n",
      "-rw-r--r--@   1 jlee  staff    1998 Apr  8 20:01 importSQL.ipynb\n",
      "-rw-r--r--@   1 jlee  staff     329 Apr  6 19:03 index.html\n",
      "-rw-r--r--@   1 jlee  staff     116 Apr  6 19:03 jsconfig.json\n",
      "drwxr-xr-x@ 193 jlee  staff    6176 Apr  8 19:55 \u001b[34mnode_modules\u001b[m\u001b[m\n",
      "-rw-r--r--@   1 jlee  staff  151588 Apr  7 21:15 package-lock.json\n",
      "-rw-r--r--@   1 jlee  staff     687 Apr  7 21:15 package.json\n",
      "drwxr-xr-x@   3 jlee  staff      96 Apr  6 19:03 \u001b[34mpublic\u001b[m\u001b[m\n",
      "drwxr-xr-x@   6 jlee  staff     192 Apr  6 22:29 \u001b[34mserver\u001b[m\u001b[m\n",
      "drwxr-xr-x@   9 jlee  staff     288 Apr  6 20:07 \u001b[34msrc\u001b[m\u001b[m\n",
      "-rw-r--r--@   1 jlee  staff     512 Apr  6 20:02 vite.config.js\n",
      "-rw-r--r--@   1 jlee  staff    1745 Apr  8 19:52 wrangler.jsonc\n",
      "\n",
      "Wrangler requires at least Node.js v18.0.0. You are using v16.13.2. Please update your version of Node.js.\n",
      "\n",
      "Consider using a Node.js version manager such as https://volta.sh/ or https://github.com/nvm-sh/nvm.\n",
      "\n"
     ]
    }
   ],
   "source": [
    "import subprocess\n",
    "import shutil\n",
    "import os\n",
    "\n",
    "def run_with_nvm_fish(node_version, command):\n",
    "    \"\"\"Run a command with a specific Node.js version using NVM in Fish shell.\"\"\"\n",
    "    fish_command = f\"\"\"\n",
    "    bass source $HOME/.nvm/nvm.sh\n",
    "    nvm use {node_version}\n",
    "    {command}\n",
    "    \"\"\"\n",
    "    \n",
    "    result = subprocess.run(\n",
    "        fish_command,\n",
    "        shell=True,\n",
    "        text=True,\n",
    "        capture_output=True,\n",
    "        executable='/opt/homebrew/bin/fish'  # Path to fish shell\n",
    "    )\n",
    "    \n",
    "    return result\n",
    "\n",
    "try:\n",
    "  shutil.rmtree(\"/Users/jlee/Desktop/max_work/maxwebsiteai/.wrangler/state/v3/d1/miniflare-D1DatabaseObject\")\n",
    "except:\n",
    "  pass\n",
    "\n",
    "process = run_with_nvm_fish(22, \"npx wrangler d1 export sqldatabase --remote --output '/Users/jlee/Desktop/max_work/maxwebsiteai/import.sql'\")\n",
    "print(process.stdout)\n",
    "\n",
    "process = run_with_nvm_fish(22, \"npx wrangler d1 execute database --file '/Users/jlee/Desktop/max_work/maxwebsiteai/import.sql'\")\n",
    "print(process.stdout)"
   ]
  }
 ],
 "metadata": {
  "kernelspec": {
   "display_name": "Python 3",
   "language": "python",
   "name": "python3"
  },
  "language_info": {
   "codemirror_mode": {
    "name": "ipython",
    "version": 3
   },
   "file_extension": ".py",
   "mimetype": "text/x-python",
   "name": "python",
   "nbconvert_exporter": "python",
   "pygments_lexer": "ipython3",
   "version": "3.13.0"
  }
 },
 "nbformat": 4,
 "nbformat_minor": 2
}
